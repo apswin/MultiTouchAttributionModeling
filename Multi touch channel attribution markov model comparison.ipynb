{
 "cells": [
  {
   "cell_type": "code",
   "execution_count": 1,
   "metadata": {},
   "outputs": [],
   "source": [
    "import pandas as pd\n",
    "import seaborn as sns\n",
    "import matplotlib.pyplot as plt\n",
    "import subprocess"
   ]
  },
  {
   "cell_type": "code",
   "execution_count": 2,
   "metadata": {},
   "outputs": [],
   "source": [
    "# Load in our data\n",
    "df = pd.read_csv('Channel_attribution.csv')\n",
    "\n",
    "# Grab list of columns to iterate through\n",
    "cols = df.columns\n",
    "\n",
    "# Iterate through columns to change all ints to str and remove any trailing '.0'\n",
    "for col in cols:\n",
    "    df[col] = df[col].astype(str)\n",
    "    df[col] = df[col].map(lambda x: str(x)[:-2] if '.' in x else str(x))"
   ]
  },
  {
   "cell_type": "code",
   "execution_count": 4,
   "metadata": {},
   "outputs": [],
   "source": [
    "# Create a total path variable\n",
    "df['Path'] = ''\n",
    "for i in df.index:\n",
    "    #df.at[i, 'Path'] = 'Start'\n",
    "    for x in cols:\n",
    "        df.at[i, 'Path'] = df.at[i, 'Path'] + df.at[i, x] + ' > '"
   ]
  },
  {
   "cell_type": "code",
   "execution_count": 7,
   "metadata": {},
   "outputs": [],
   "source": [
    "# Split path on conversion (channel 21)\n",
    "df['Path'] = df['Path'].map(lambda x: x.split(' > 21')[0])\n",
    "\n",
    "# Create conversion value we can sum to get total conversions for each path\n",
    "df['Conversion'] = 1"
   ]
  },
  {
   "cell_type": "code",
   "execution_count": 9,
   "metadata": {},
   "outputs": [],
   "source": [
    "# Select relevant columns\n",
    "df = df[['Path', 'Conversion']]\n",
    "\n",
    "# Sum conversions by Path\n",
    "df = df.groupby('Path').sum().reset_index()\n",
    "\n",
    "# Write DF to CSV to be executed in R\n",
    "df.to_csv('Paths.csv', index=False)"
   ]
  },
  {
   "cell_type": "code",
   "execution_count": 24,
   "metadata": {},
   "outputs": [
    {
     "data": {
      "text/plain": [
       "1"
      ]
     },
     "execution_count": 24,
     "metadata": {},
     "output_type": "execute_result"
    }
   ],
   "source": [
    "# Define the path to the R script that will run the Markov Model\n",
    "path2script = 'C:/Users/Apoorva/Documents/msba resume/Full time applications/capegemini/markov.r'\n",
    "\n",
    "# Call the R script\n",
    "subprocess.call(['C:/Program Files/R/R-3.6.1/bin/Rscript', '--vanilla', path2script], shell=True)\n"
   ]
  },
  {
   "cell_type": "code",
   "execution_count": 27,
   "metadata": {},
   "outputs": [],
   "source": [
    "# Load in the CSV file with the model output from R\n",
    "markov = pd.read_csv('Markov - Output - Conversion values.csv')\n",
    "\n",
    "# Select only the necessary columns and rename them\n",
    "markov = markov[['channel_name', 'total_conversions']]\n",
    "markov.columns = ['Channel', 'Conversion']"
   ]
  },
  {
   "cell_type": "code",
   "execution_count": 28,
   "metadata": {},
   "outputs": [],
   "source": [
    "# First Touch Attribution\n",
    "df['First Touch'] = df['Path'].map(lambda x: x.split(' > ')[0])\n",
    "df_ft = pd.DataFrame()\n",
    "df_ft['Channel'] = df['First Touch']\n",
    "df_ft['Attribution'] = 'First Touch'\n",
    "df_ft['Conversion'] = 1\n",
    "df_ft = df_ft.groupby(['Channel', 'Attribution']).sum().reset_index()\n",
    "\n",
    "# Last Touch Attribution\n",
    "df['Last Touch'] = df['Path'].map(lambda x: x.split(' > ')[-1])\n",
    "df_lt = pd.DataFrame()\n",
    "df_lt['Channel'] = df['Last Touch']\n",
    "df_lt['Attribution'] = 'Last Touch'\n",
    "df_lt['Conversion'] = 1\n",
    "df_lt = df_lt.groupby(['Channel', 'Attribution']).sum().reset_index()\n",
    "\n",
    "# Linear Attribution\n",
    "channel = []\n",
    "conversion = []\n",
    "for i in df.index:\n",
    "    for j in df.at[i, 'Path'].split(' > '):\n",
    "        channel.append(j)\n",
    "        conversion.append(1/len(df.at[i, 'Path'].split(' > ')))\n",
    "lin_att_df = pd.DataFrame()\n",
    "lin_att_df['Channel'] = channel\n",
    "lin_att_df['Attribution'] = 'Linear'\n",
    "lin_att_df['Conversion'] = conversion\n",
    "lin_att_df = lin_att_df.groupby(['Channel', 'Attribution']).sum().reset_index()"
   ]
  },
  {
   "cell_type": "code",
   "execution_count": 32,
   "metadata": {},
   "outputs": [
    {
     "name": "stderr",
     "output_type": "stream",
     "text": [
      "C:\\Users\\Apoorva\\Documents\\AnacondaInstallation\\lib\\site-packages\\ipykernel_launcher.py:2: FutureWarning: Sorting because non-concatenation axis is not aligned. A future version\n",
      "of pandas will change to not sort by default.\n",
      "\n",
      "To accept the future behavior, pass 'sort=False'.\n",
      "\n",
      "To retain the current behavior and silence the warning, pass 'sort=True'.\n",
      "\n",
      "  \n"
     ]
    },
    {
     "data": {
      "image/png": "[encoded data removed]",
      "text/plain": [
       "<Figure size 1152x720 with 1 Axes>"
      ]
     },
     "metadata": {},
     "output_type": "display_data"
    }
   ],
   "source": [
    "# Concatenate the four data frames to a single data frame\n",
    "df_total_attr = pd.concat([df_ft, df_lt, lin_att_df, markov])\n",
    "df_total_attr['Channel'] = df_total_attr['Channel'].astype(int)\n",
    "df_total_attr.sort_values(by='Channel', ascending=True, inplace=True)\n",
    "\n",
    "\n",
    "# Visualize the attributions\n",
    "sns.set_style(\"whitegrid\")\n",
    "plt.rc('legend', fontsize=15)\n",
    "fig, ax = plt.subplots(figsize=(16, 10))\n",
    "sns.barplot(x='Channel', y='Conversion', hue='Attribution', data=df_total_attr)\n",
    "plt.show()"
   ]
  },
  {
   "cell_type": "code",
   "execution_count": 33,
   "metadata": {},
   "outputs": [],
   "source": [
    "df_total_attr.to_excel(\"Attribution markov vs others.xlsx\")"
   ]
  }
 ],
 "metadata": {
  "kernelspec": {
   "display_name": "Python 3",
   "language": "python",
   "name": "python3"
  },
  "language_info": {
   "codemirror_mode": {
    "name": "ipython",
    "version": 3
   },
   "file_extension": ".py",
   "mimetype": "text/x-python",
   "name": "python",
   "nbconvert_exporter": "python",
   "pygments_lexer": "ipython3",
   "version": "3.7.3"
  }
 },
 "nbformat": 4,
 "nbformat_minor": 2
}
